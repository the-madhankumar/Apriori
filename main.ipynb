{
 "cells": [
  {
   "cell_type": "code",
   "execution_count": 1,
   "metadata": {},
   "outputs": [],
   "source": [
    "def getItemSetFromList(itemSetList):\n",
    "    itemSet = set()\n",
    "    for transaction in itemSetList:\n",
    "        for item in transaction:\n",
    "            itemSet.add(frozenset([item])) \n",
    "    return itemSet"
   ]
  },
  {
   "cell_type": "code",
   "execution_count": 2,
   "metadata": {},
   "outputs": [],
   "source": [
    "def getAboveMinSup(itemSet, itemSetList, minSup, globalItemSetWithSup):\n",
    "    freqItemSet = set()\n",
    "    localItemSetWithSup = defaultdict(int)\n",
    "\n",
    "    for item in itemSet:\n",
    "        for transaction in itemSetList:\n",
    "            if item.issubset(transaction):\n",
    "                localItemSetWithSup[item] += 1\n",
    "                globalItemSetWithSup[item] += 1\n",
    "\n",
    "    for item, sup in localItemSetWithSup.items():\n",
    "        support = float(sup / len(itemSetList))\n",
    "        if sup >= minSup:\n",
    "            freqItemSet.add(item)\n",
    "\n",
    "    return freqItemSet"
   ]
  },
  {
   "cell_type": "code",
   "execution_count": null,
   "metadata": {},
   "outputs": [],
   "source": []
  },
  {
   "cell_type": "code",
   "execution_count": null,
   "metadata": {},
   "outputs": [],
   "source": [
    "def apriori(itemSetList, minSup, minConf):\n",
    "    C1ItemSet = getItemSetFromList(itemSetList)  \n",
    "    globalFreqItemSet = dict()  \n",
    "    globalItemSetWithSup = defaultdict(int) \n",
    "    L1ItemSet = getAboveMinSup(C1ItemSet, itemSetList, minSup, globalItemSetWithSup)\n",
    "    currentLSet = L1ItemSet\n",
    "    k = 2\n",
    "\n",
    "    while currentLSet:\n",
    "        globalFreqItemSet[k-1] = currentLSet \n",
    "        candidateSet = getUnion(currentLSet, k) \n",
    "        candidateSet = pruning(candidateSet, currentLSet, k-1) \n",
    "        currentLSet = getAboveMinSup(candidateSet, itemSetList, minSup, globalItemSetWithSup)\n",
    "\n",
    "        rules = associationRule(globalFreqItemSet, globalItemSetWithSup, minConf) \n",
    "        rules.sort(key=lambda x: x[2]) \n",
    "        return globalFreqItemSet, rules\n",
    "\n"
   ]
  }
 ],
 "metadata": {
  "kernelspec": {
   "display_name": "base",
   "language": "python",
   "name": "python3"
  },
  "language_info": {
   "codemirror_mode": {
    "name": "ipython",
    "version": 3
   },
   "file_extension": ".py",
   "mimetype": "text/x-python",
   "name": "python",
   "nbconvert_exporter": "python",
   "pygments_lexer": "ipython3",
   "version": "3.11.7"
  }
 },
 "nbformat": 4,
 "nbformat_minor": 2
}
